{
  "nbformat": 4,
  "nbformat_minor": 0,
  "metadata": {
    "colab": {
      "name": "opencv_model2.ipynb",
      "provenance": [],
      "collapsed_sections": [],
      "authorship_tag": "ABX9TyNhnm4ZMLKESYXZy2K8ZRo9",
      "include_colab_link": true
    },
    "kernelspec": {
      "name": "python3",
      "display_name": "Python 3"
    },
    "language_info": {
      "name": "python"
    }
  },
  "cells": [
    {
      "cell_type": "markdown",
      "metadata": {
        "id": "view-in-github",
        "colab_type": "text"
      },
      "source": [
        "<a href=\"https://colab.research.google.com/github/dharsha454/Test-documents/blob/main/opencv_model2.ipynb\" target=\"_parent\"><img src=\"https://colab.research.google.com/assets/colab-badge.svg\" alt=\"Open In Colab\"/></a>"
      ]
    },
    {
      "cell_type": "code",
      "metadata": {
        "id": "eQwRAHcQ1pKm"
      },
      "source": [
        "!sudo apt-get install tesseract-ocr"
      ],
      "execution_count": null,
      "outputs": []
    },
    {
      "cell_type": "code",
      "metadata": {
        "colab": {
          "base_uri": "https://localhost:8080/"
        },
        "id": "g3pi9IOL10m4",
        "outputId": "cf16d275-26ab-4d69-a007-9289f609f123"
      },
      "source": [
        "!pip install pytesseract"
      ],
      "execution_count": null,
      "outputs": [
        {
          "output_type": "stream",
          "text": [
            "Collecting pytesseract\n",
            "  Downloading https://files.pythonhosted.org/packages/a0/e6/a4e9fc8a93c1318540e8de6d8d4beb5749b7960388a7c7f27799fc2dd016/pytesseract-0.3.7.tar.gz\n",
            "Requirement already satisfied: Pillow in /usr/local/lib/python3.7/dist-packages (from pytesseract) (7.1.2)\n",
            "Building wheels for collected packages: pytesseract\n",
            "  Building wheel for pytesseract (setup.py) ... \u001b[?25l\u001b[?25hdone\n",
            "  Created wheel for pytesseract: filename=pytesseract-0.3.7-py2.py3-none-any.whl size=13945 sha256=75d5e45a13e34556ce8950365ae5d959b76021a8364a210690d6f1bd7d44c674\n",
            "  Stored in directory: /root/.cache/pip/wheels/81/20/7e/1dd0daad1575d5260916bb1e9781246430647adaef4b3ca3b3\n",
            "Successfully built pytesseract\n",
            "Installing collected packages: pytesseract\n",
            "Successfully installed pytesseract-0.3.7\n"
          ],
          "name": "stdout"
        }
      ]
    },
    {
      "cell_type": "code",
      "metadata": {
        "id": "t8g1A3vh1REp"
      },
      "source": [
        "import cv2\n",
        "import numpy as np\n",
        "import pytesseract\n",
        "import os"
      ],
      "execution_count": null,
      "outputs": []
    },
    {
      "cell_type": "code",
      "metadata": {
        "id": "YYNDnZ3G2Jv0"
      },
      "source": [
        "from google.colab.patches import cv2_imshow"
      ],
      "execution_count": null,
      "outputs": []
    },
    {
      "cell_type": "code",
      "metadata": {
        "id": "nRavmT6h1_Z1"
      },
      "source": [
        "imgQ = cv2.imread('Query.PNG')\n",
        "cv2_imshow( imgQ)\n",
        "cv2.waitKey(0)"
      ],
      "execution_count": null,
      "outputs": []
    },
    {
      "cell_type": "code",
      "metadata": {
        "id": "qk9_e4ec2Z89"
      },
      "source": [
        "h,w,c = imgQ.shape\n",
        "imgQ = cv2.resize(imgQ, (w//3, h//3))"
      ],
      "execution_count": null,
      "outputs": []
    },
    {
      "cell_type": "code",
      "metadata": {
        "id": "gW2EeDYI2bBG"
      },
      "source": [
        "per = 25\n",
        "# threshold pixels\n",
        "#pixelthreshold = np.zeros00"
      ],
      "execution_count": null,
      "outputs": []
    },
    {
      "cell_type": "code",
      "metadata": {
        "id": "HQnJd1k72fnl"
      },
      "source": [
        "roi = [\n",
        "[(156 ,  50),(277 ,  73), 'text', 'Height in inches'],\n",
        "[(424 ,  48),(563 ,  74), 'text', 'Weight in pounds'],\n",
        "[(161 ,  76),(387 ,  98), 'text', 'Blood Pressure'],\n",
        "[(448 ,  79),(631 ,  100),'text', 'Pulse'],\n",
        "[(184 ,  335),(288 ,  362), 'box', 'eyes normal'],\n",
        "[(293 ,  334),(419 ,  365), 'box', 'eyes abnormal'],\n",
        "[(185 ,  368),(289 ,  398) ,'box', 'ears normal'],\n",
        "[(294 ,  367),(420 ,  399),'box', 'ears normal'],\n",
        "]"
      ],
      "execution_count": null,
      "outputs": []
    },
    {
      "cell_type": "code",
      "metadata": {
        "id": "CymLZGCB2vru"
      },
      "source": [
        "orb = cv2.ORB_create(1000)"
      ],
      "execution_count": null,
      "outputs": []
    },
    {
      "cell_type": "code",
      "metadata": {
        "id": "YTwP6rph2w0N"
      },
      "source": [
        "kp1, des1 = orb.detectAndCompute(imgQ, None)\n"
      ],
      "execution_count": null,
      "outputs": []
    },
    {
      "cell_type": "code",
      "metadata": {
        "id": "o9R6y47J2ydW"
      },
      "source": [
        "img = cv2.imread(\"TEST.PNG\")\n",
        "\t#cv2.imshow(y,img)\n",
        "kp2, des2 = orb.detectAndCompute(img, None)\n",
        "bf = cv2.BFMatcher(cv2.NORM_HAMMING)\n",
        "matches = bf.match(des2, des1)\n",
        "matches.sort(key = lambda x: x.distance)\n",
        "good = matches[:len(matches)*(per//100)]\n"
      ],
      "execution_count": null,
      "outputs": []
    },
    {
      "cell_type": "code",
      "metadata": {
        "id": "03gk0evj3p4m"
      },
      "source": [
        "\t#adjust number in good\n",
        "\timgMatch = cv2.drawMatches(img, kp2, imgQ, kp1, good[:100], None, flags=2)\n",
        "\tcv2_imshow(imgMatch)\n"
      ],
      "execution_count": null,
      "outputs": []
    },
    {
      "cell_type": "code",
      "metadata": {
        "id": "j225tS-G38yF"
      },
      "source": [
        "srcPoints = np.float32([kp2[m.queryIdx].pt for m in good]).reshape(-1,1,2)\n",
        "dstPoints = np.float32([kp1[m.queryIdx].pt for m in good]).reshape(-1,1,2)\n",
        "\n"
      ],
      "execution_count": null,
      "outputs": []
    },
    {
      "cell_type": "code",
      "metadata": {
        "colab": {
          "base_uri": "https://localhost:8080/",
          "height": 267
        },
        "id": "-miN-won4O2V",
        "outputId": "a6a3a8c1-0ccd-461e-dc60-177c8f53e4f2"
      },
      "source": [
        "M, _ = cv2.findHomography(srcPoints, dstPoints, cv2.RANSAC, 5.0)\n",
        "imgScan = cv2.warpPerspective(img, M,(w,h))\n",
        "imgScan = cv2.resize(imgScan, (w//3, h//3))\n",
        "cv2_imshow(imgScan)\n",
        "\n",
        "\t\n"
      ],
      "execution_count": null,
      "outputs": [
        {
          "output_type": "error",
          "ename": "error",
          "evalue": "ignored",
          "traceback": [
            "\u001b[0;31m---------------------------------------------------------------------------\u001b[0m",
            "\u001b[0;31merror\u001b[0m                                     Traceback (most recent call last)",
            "\u001b[0;32m<ipython-input-26-d87dbed11cc2>\u001b[0m in \u001b[0;36m<module>\u001b[0;34m()\u001b[0m\n\u001b[0;32m----> 1\u001b[0;31m \u001b[0mM\u001b[0m\u001b[0;34m,\u001b[0m \u001b[0m_\u001b[0m \u001b[0;34m=\u001b[0m \u001b[0mcv2\u001b[0m\u001b[0;34m.\u001b[0m\u001b[0mfindHomography\u001b[0m\u001b[0;34m(\u001b[0m\u001b[0msrcPoints\u001b[0m\u001b[0;34m,\u001b[0m \u001b[0mdstPoints\u001b[0m\u001b[0;34m,\u001b[0m \u001b[0mcv2\u001b[0m\u001b[0;34m.\u001b[0m\u001b[0mRANSAC\u001b[0m\u001b[0;34m,\u001b[0m \u001b[0;36m5.0\u001b[0m\u001b[0;34m)\u001b[0m\u001b[0;34m\u001b[0m\u001b[0;34m\u001b[0m\u001b[0m\n\u001b[0m\u001b[1;32m      2\u001b[0m \u001b[0mimgScan\u001b[0m \u001b[0;34m=\u001b[0m \u001b[0mcv2\u001b[0m\u001b[0;34m.\u001b[0m\u001b[0mwarpPerspective\u001b[0m\u001b[0;34m(\u001b[0m\u001b[0mimg\u001b[0m\u001b[0;34m,\u001b[0m \u001b[0mM\u001b[0m\u001b[0;34m,\u001b[0m\u001b[0;34m(\u001b[0m\u001b[0mw\u001b[0m\u001b[0;34m,\u001b[0m\u001b[0mh\u001b[0m\u001b[0;34m)\u001b[0m\u001b[0;34m)\u001b[0m\u001b[0;34m\u001b[0m\u001b[0;34m\u001b[0m\u001b[0m\n\u001b[1;32m      3\u001b[0m \u001b[0mimgScan\u001b[0m \u001b[0;34m=\u001b[0m \u001b[0mcv2\u001b[0m\u001b[0;34m.\u001b[0m\u001b[0mresize\u001b[0m\u001b[0;34m(\u001b[0m\u001b[0mimgScan\u001b[0m\u001b[0;34m,\u001b[0m \u001b[0;34m(\u001b[0m\u001b[0mw\u001b[0m\u001b[0;34m//\u001b[0m\u001b[0;36m3\u001b[0m\u001b[0;34m,\u001b[0m \u001b[0mh\u001b[0m\u001b[0;34m//\u001b[0m\u001b[0;36m3\u001b[0m\u001b[0;34m)\u001b[0m\u001b[0;34m)\u001b[0m\u001b[0;34m\u001b[0m\u001b[0;34m\u001b[0m\u001b[0m\n\u001b[1;32m      4\u001b[0m \u001b[0mcv2_imshow\u001b[0m\u001b[0;34m(\u001b[0m\u001b[0mimgScan\u001b[0m\u001b[0;34m)\u001b[0m\u001b[0;34m\u001b[0m\u001b[0;34m\u001b[0m\u001b[0m\n\u001b[1;32m      5\u001b[0m \u001b[0;34m\u001b[0m\u001b[0m\n",
            "\u001b[0;31merror\u001b[0m: OpenCV(4.1.2) /io/opencv/modules/calib3d/src/ptsetreg.cpp:174: error: (-215:Assertion failed) count >= 0 && count2 == count in function 'run'\n"
          ]
        }
      ]
    },
    {
      "cell_type": "code",
      "metadata": {
        "id": "ylzq4ByK4W3F"
      },
      "source": [
        "imgShow = imgScan.copy()\n",
        "\timgMask = np.zeros_like(imgShow)\n",
        "\n",
        "\tmyData = []\n",
        "\n",
        "\tprint(f'################ Extracting data from Form{j} ############### ')\n",
        "\tfor x,r in enumerate(roi):\n",
        "\n",
        "\t\tcv2.rectangle(imgMask, (r[0][0], r[0][1]), (r[1][0], r[1][1]), (0,255,0), cv2.FILLED)\n",
        "\t\timgShow = cv2.addWeighted(imgShow, 0.99, imgMask, 0.1, 0)\n",
        "\n",
        "\t\timgCrop = imgScan[r[0][1]:r[1][1], r[0][0]:r[1][0]]\n",
        "\t\t#cv2.imshow(str(x), imgCrop)\n",
        "\n",
        "\t\tif r[2] =='text':\n",
        "\t\t\tprint(f'{r[3]}:{pytesseract.image_to_string(imgCrop)}')\n",
        "\t\t\tmyData.append(pytesseract.image_to_string(imgCrop))\n",
        "\t\tif r[2] == 'box':\n",
        "\t\t\timgGray = cv2.cvtColor(imgCrop, cv2.COLOR_BGR2GRAY)\n",
        "\t\t\timgThresh = cv2.threshold(imgGray, 170,255, cv2.THRESH_BINARY_INV)[1]\n",
        "\t\t\ttotalPixels = cv2.countNonZero(imgThresh)\n",
        "\t\t\t# count pixels to make decision for checked or unchecked and find a threshold for the same\n",
        "\t\t\tif totalPixels > pixelthreshold: totalPixels = 1;\n",
        "\t\t\telse: totalPixels =0\n",
        "\t\t\tprint(f'{r[3]}:{totalPixels}')\n",
        "\t\t\tmyData.append(totalPixels)\n",
        "\t\t#cv2.putText(imgShow, str(myData))"
      ],
      "execution_count": null,
      "outputs": []
    }
  ]
}