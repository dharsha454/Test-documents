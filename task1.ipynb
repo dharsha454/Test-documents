{
  "nbformat": 4,
  "nbformat_minor": 0,
  "metadata": {
    "colab": {
      "name": "task1.ipynb",
      "provenance": [],
      "collapsed_sections": [],
      "toc_visible": true
    },
    "kernelspec": {
      "name": "python3",
      "display_name": "Python 3"
    },
    "language_info": {
      "name": "python"
    }
  },
  "cells": [
    {
      "cell_type": "markdown",
      "metadata": {
        "id": "n61T6_SESxu3"
      },
      "source": [
        "Install pdfplumber library to extract text from PDF"
      ]
    },
    {
      "cell_type": "code",
      "metadata": {
        "id": "a-15R1XlLbRJ"
      },
      "source": [
        "pip install pdfplumber"
      ],
      "execution_count": null,
      "outputs": []
    },
    {
      "cell_type": "markdown",
      "metadata": {
        "id": "y04oQ0ZHTFtn"
      },
      "source": [
        "Import pdfplumber, regex"
      ]
    },
    {
      "cell_type": "code",
      "metadata": {
        "id": "U7HkCnKNSDfW"
      },
      "source": [
        "import pdfplumber\n",
        "import re"
      ],
      "execution_count": null,
      "outputs": []
    },
    {
      "cell_type": "markdown",
      "metadata": {
        "id": "vDc1Q5pITJTe"
      },
      "source": [
        "Keys to be extracted"
      ]
    },
    {
      "cell_type": "code",
      "metadata": {
        "id": "o9SE2GBKSghm"
      },
      "source": [
        "keys=['Temperature','Height','Weight','Blood Pressure']"
      ],
      "execution_count": null,
      "outputs": []
    },
    {
      "cell_type": "markdown",
      "metadata": {
        "id": "Mewuk1N2NsAu"
      },
      "source": [
        "Load File "
      ]
    },
    {
      "cell_type": "code",
      "metadata": {
        "id": "YBKm8RYKJ5vJ"
      },
      "source": [
        "!curl --remote-name \\\n",
        "     -H 'Accept: application/vnd.github.v3.raw' \\\n",
        "     --location https://github.com/dharsha454/Test-documents/blob/8ad79817bbef0f5dbf1b460ece905657ff03f3bf/Test.pdf"
      ],
      "execution_count": null,
      "outputs": []
    },
    {
      "cell_type": "markdown",
      "metadata": {
        "id": "kk1Qs5fWTNQO"
      },
      "source": [
        "Text Extraction"
      ]
    },
    {
      "cell_type": "code",
      "metadata": {
        "id": "zM3dxAysSFet"
      },
      "source": [
        "with pdfplumber.open(r'Test.pdf') as pdf:\n",
        "    curr = pdf.pages[0]\n",
        "    text = (curr.extract_text())"
      ],
      "execution_count": null,
      "outputs": []
    },
    {
      "cell_type": "code",
      "metadata": {
        "id": "0mf8adjASHtW"
      },
      "source": [
        "print(text)"
      ],
      "execution_count": null,
      "outputs": []
    },
    {
      "cell_type": "code",
      "metadata": {
        "id": "cAyhIlf5SLNe"
      },
      "source": [
        "result={}\n",
        "j=''"
      ],
      "execution_count": null,
      "outputs": []
    },
    {
      "cell_type": "markdown",
      "metadata": {
        "id": "9cOXMgRCTQJ-"
      },
      "source": [
        "Extracting key value pairs using regex"
      ]
    },
    {
      "cell_type": "code",
      "metadata": {
        "id": "9aA-V4d6SLx2"
      },
      "source": [
        "\n",
        "for i in keys:\n",
        "  if i=='Blood Pressure':\n",
        "    j = re.search(r'{}\\w*:\\d*\\/\\d*'.format(i),text).group()\n",
        "\n",
        "  elif re.search(r'{}\\w*:\\d*'.format(i),text):\n",
        "    j = re.search(r'{}\\w*:\\d*'.format(i),text).group()\n",
        "   \n",
        "  elif re.search(r'{}\\w*:\\d*'.format(i),text):\n",
        "    j = re.search(r'{}\\w*:\\d*'.format(i),text).group()\n",
        "\n",
        "  j= j.replace('\\n','')\n",
        "  j = j.replace(':','') \n",
        "  result[i] = j.replace(i,'')"
      ],
      "execution_count": null,
      "outputs": []
    },
    {
      "cell_type": "code",
      "metadata": {
        "colab": {
          "base_uri": "https://localhost:8080/"
        },
        "id": "f-0V6dhDSTuW",
        "outputId": "0c937d5d-2ade-4e8b-a691-ef197e8315b3"
      },
      "source": [
        "result"
      ],
      "execution_count": null,
      "outputs": [
        {
          "output_type": "execute_result",
          "data": {
            "text/plain": [
              "{'Blood Pressure': '130/80',\n",
              " 'Height': '175',\n",
              " 'Temperature': '98',\n",
              " 'Weight': '170'}"
            ]
          },
          "metadata": {
            "tags": []
          },
          "execution_count": 8
        }
      ]
    },
    {
      "cell_type": "markdown",
      "metadata": {
        "id": "U9LbWI6BTXnG"
      },
      "source": [
        "Exporting to json"
      ]
    },
    {
      "cell_type": "code",
      "metadata": {
        "id": "p_kswui3SW_2"
      },
      "source": [
        "import json\n",
        "with open('output.json', 'w') as f:\n",
        "    json.dump(result,f)"
      ],
      "execution_count": null,
      "outputs": []
    },
    {
      "cell_type": "code",
      "metadata": {
        "colab": {
          "base_uri": "https://localhost:8080/"
        },
        "id": "e63cfphsSZxu",
        "outputId": "b689e371-0d0e-4d2b-cda0-721169dce082"
      },
      "source": [
        "test_json = json.load(open('output.json'))\n",
        "test_json"
      ],
      "execution_count": null,
      "outputs": [
        {
          "output_type": "execute_result",
          "data": {
            "text/plain": [
              "{'Blood Pressure': '130/80',\n",
              " 'Height': '175',\n",
              " 'Temperature': '98',\n",
              " 'Weight': '170'}"
            ]
          },
          "metadata": {
            "tags": []
          },
          "execution_count": 10
        }
      ]
    }
  ]
}