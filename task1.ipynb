{
  "nbformat": 4,
  "nbformat_minor": 0,
  "metadata": {
    "colab": {
      "name": "task1.ipynb",
      "provenance": [],
      "collapsed_sections": [],
      "authorship_tag": "ABX9TyPDEYEI5cbIsJq5EZpshpF1",
      "include_colab_link": true
    },
    "kernelspec": {
      "name": "python3",
      "display_name": "Python 3"
    },
    "language_info": {
      "name": "python"
    }
  },
  "cells": [
    {
      "cell_type": "markdown",
      "metadata": {
        "id": "view-in-github",
        "colab_type": "text"
      },
      "source": [
        "<a href=\"https://colab.research.google.com/github/dharsha454/Test-documents/blob/main/task1.ipynb\" target=\"_parent\"><img src=\"https://colab.research.google.com/assets/colab-badge.svg\" alt=\"Open In Colab\"/></a>"
      ]
    },
    {
      "cell_type": "markdown",
      "metadata": {
        "id": "n61T6_SESxu3"
      },
      "source": [
        "Install pdfplumber library to extract text from PDF"
      ]
    },
    {
      "cell_type": "code",
      "metadata": {
        "id": "a-15R1XlLbRJ"
      },
      "source": [
        "pip install pdfplumber"
      ],
      "execution_count": null,
      "outputs": []
    },
    {
      "cell_type": "markdown",
      "metadata": {
        "id": "y04oQ0ZHTFtn"
      },
      "source": [
        "Import pdfplumber, regex"
      ]
    },
    {
      "cell_type": "code",
      "metadata": {
        "id": "U7HkCnKNSDfW"
      },
      "source": [
        "import pdfplumber\n",
        "import re"
      ],
      "execution_count": 2,
      "outputs": []
    },
    {
      "cell_type": "code",
      "metadata": {
        "id": "mED5NwBp-I3Q"
      },
      "source": [
        "import spacy"
      ],
      "execution_count": 3,
      "outputs": []
    },
    {
      "cell_type": "code",
      "metadata": {
        "id": "EUYAh4UP-_Wt"
      },
      "source": [
        "nlp = spacy.load(\"en_core_web_sm\")"
      ],
      "execution_count": 4,
      "outputs": []
    },
    {
      "cell_type": "markdown",
      "metadata": {
        "id": "vDc1Q5pITJTe"
      },
      "source": [
        "Keys to be extracted"
      ]
    },
    {
      "cell_type": "code",
      "metadata": {
        "id": "o9SE2GBKSghm"
      },
      "source": [
        "keys=['Temperature','Height','Weight','Blood Pressure']"
      ],
      "execution_count": 5,
      "outputs": []
    },
    {
      "cell_type": "markdown",
      "metadata": {
        "id": "Mewuk1N2NsAu"
      },
      "source": [
        "Load File "
      ]
    },
    {
      "cell_type": "code",
      "metadata": {
        "colab": {
          "base_uri": "https://localhost:8080/"
        },
        "id": "YBKm8RYKJ5vJ",
        "outputId": "2b942ff5-123b-4816-dfa1-880b379dac38"
      },
      "source": [
        "!curl --remote-name \\\n",
        "     -H 'Accept: application/vnd.github.v3.raw' \\\n",
        "     --location https://github.com/dharsha454/Test-documents/raw/main/Test.pdf"
      ],
      "execution_count": 6,
      "outputs": [
        {
          "output_type": "stream",
          "text": [
            "  % Total    % Received % Xferd  Average Speed   Time    Time     Time  Current\n",
            "                                 Dload  Upload   Total   Spent    Left  Speed\n",
            "100   139  100   139    0     0    785      0 --:--:-- --:--:-- --:--:--   785\n",
            "100  108k  100  108k    0     0   301k      0 --:--:-- --:--:-- --:--:-- 4221k\n"
          ],
          "name": "stdout"
        }
      ]
    },
    {
      "cell_type": "markdown",
      "metadata": {
        "id": "kk1Qs5fWTNQO"
      },
      "source": [
        "Text Extraction"
      ]
    },
    {
      "cell_type": "code",
      "metadata": {
        "id": "zM3dxAysSFet"
      },
      "source": [
        "with pdfplumber.open(r'Test.pdf') as pdf:\n",
        "    curr = pdf.pages[0]\n",
        "    text = (curr.extract_text())"
      ],
      "execution_count": 7,
      "outputs": []
    },
    {
      "cell_type": "code",
      "metadata": {
        "id": "0mf8adjASHtW"
      },
      "source": [
        "print(text)"
      ],
      "execution_count": null,
      "outputs": []
    },
    {
      "cell_type": "code",
      "metadata": {
        "id": "cAyhIlf5SLNe"
      },
      "source": [
        "result={}\n",
        "j=''"
      ],
      "execution_count": 9,
      "outputs": []
    },
    {
      "cell_type": "markdown",
      "metadata": {
        "id": "9cOXMgRCTQJ-"
      },
      "source": [
        "Extracting key value pairs using regex"
      ]
    },
    {
      "cell_type": "code",
      "metadata": {
        "id": "9aA-V4d6SLx2"
      },
      "source": [
        "\n",
        "for i in keys:\n",
        "  if i=='Blood Pressure':\n",
        "    j = re.search(r'{}\\w*:\\d*\\/\\d*'.format(i),text).group()\n",
        "\n",
        "  elif re.search(r'{}\\w*:\\d*'.format(i),text):\n",
        "    j = re.search(r'{}\\w*:\\d*'.format(i),text).group()\n",
        "   \n",
        "  elif re.search(r'{}\\w*:\\d*'.format(i),text):\n",
        "    j = re.search(r'{}\\w*:\\d*'.format(i),text).group()\n",
        "\n",
        "  j= j.replace('\\n','')\n",
        "  j = j.replace(':','') \n",
        "  result[i] = j.replace(i,'')"
      ],
      "execution_count": 10,
      "outputs": []
    },
    {
      "cell_type": "code",
      "metadata": {
        "colab": {
          "base_uri": "https://localhost:8080/"
        },
        "id": "f-0V6dhDSTuW",
        "outputId": "d9c3b2d2-de5b-4060-a7b2-5ad263f6f3ff"
      },
      "source": [
        "result"
      ],
      "execution_count": 11,
      "outputs": [
        {
          "output_type": "execute_result",
          "data": {
            "text/plain": [
              "{'Blood Pressure': '130/80',\n",
              " 'Height': '175',\n",
              " 'Temperature': '98',\n",
              " 'Weight': '170'}"
            ]
          },
          "metadata": {
            "tags": []
          },
          "execution_count": 11
        }
      ]
    },
    {
      "cell_type": "markdown",
      "metadata": {
        "id": "U9LbWI6BTXnG"
      },
      "source": [
        "Exporting to json"
      ]
    },
    {
      "cell_type": "code",
      "metadata": {
        "id": "p_kswui3SW_2"
      },
      "source": [
        "import json\n",
        "with open('output.json', 'w') as f:\n",
        "    json.dump(result,f)"
      ],
      "execution_count": 12,
      "outputs": []
    },
    {
      "cell_type": "code",
      "metadata": {
        "colab": {
          "base_uri": "https://localhost:8080/"
        },
        "id": "e63cfphsSZxu",
        "outputId": "fbc8f699-6a66-4932-fc02-7749cd2950e7"
      },
      "source": [
        "test_json = json.load(open('output.json'))\n",
        "test_json"
      ],
      "execution_count": 13,
      "outputs": [
        {
          "output_type": "execute_result",
          "data": {
            "text/plain": [
              "{'Blood Pressure': '130/80',\n",
              " 'Height': '175',\n",
              " 'Temperature': '98',\n",
              " 'Weight': '170'}"
            ]
          },
          "metadata": {
            "tags": []
          },
          "execution_count": 13
        }
      ]
    },
    {
      "cell_type": "code",
      "metadata": {
        "id": "CQKH5IWl_E9d"
      },
      "source": [
        "doc = nlp(text)"
      ],
      "execution_count": 14,
      "outputs": []
    },
    {
      "cell_type": "code",
      "metadata": {
        "id": "aOlRfkWE_KhV"
      },
      "source": [
        "from spacy import displacy"
      ],
      "execution_count": 15,
      "outputs": []
    },
    {
      "cell_type": "code",
      "metadata": {
        "id": "0WjzcXAx_TXo"
      },
      "source": [
        "displacy.render(nlp(doc.text), style='ent', jupyter=True)"
      ],
      "execution_count": null,
      "outputs": []
    },
    {
      "cell_type": "code",
      "metadata": {
        "id": "N_LZzP7VBZQe"
      },
      "source": [
        "train = [\n",
        "\n",
        "(\"Temperature is 95\", {\"entities\": [(0, 10, \"PARAM\"), (15, 16, 'VALUE')]}),\n",
        "(\"He has a body temperature of 100\", {\"entities\": [(14, 24, \"PARAM\"), (29, 31, 'VALUE')]}),\n",
        "(\"she checked her body temperature to be 98.2\", {\"entities\": [(21, 31, \"PARAM\"), (39, 42, 'VALUE')]}),\n",
        "(\"Temperature is 97.5\", {\"entities\": [(0, 10, \"PARAM\"), (15, 18, 'VALUE')]}),\n",
        "(\"The Blood Pressure of Ravi is 120/80\", {\"entities\": [(4, 17, \"PARAM\"), (30, 36, 'VALUE')]}),\n",
        "(\"Sheila has a Blood Pressure of 135/90\", {\"entities\": [(13, 26, \"PARAM\"), (31, 37, 'VALUE')]}),\n",
        "(\"Blood Pressure of 135/95 is not ideal\", {\"entities\": [(0, 13, \"PARAM\"), (18, 23, 'VALUE')]}),\n",
        "(\"Height of Ravi is 175\", {\"entities\": [(0, 5, \"PARAM\"), (18, 20 , 'VALUE')]}),\n",
        "(\"Height is 155\", {\"entities\": [(0, 5, \"PARAM\"), (10, 12, 'VALUE')]}),\n",
        "(\"The Height of his wife is 168\", {\"entities\": [(4, 10, \"PARAM\"), (26, 29, 'VALUE')]}),\n",
        "(\"Ram checked his Weight to be 85\", {\"entities\": [(16, 22, \"PARAM\"), (29, 30, 'VALUE')]}),\n",
        "(\"Weight of Chris is 90.8\", {\"entities\": [(0, 5, \"PARAM\"), (19, 22, 'VALUE')]}),\n",
        "(\"Average Weight of all students in the class is 52.5\", {\"entities\": [(8, 13, \"PARAM\"), (47, 50, 'VALUE')]})\n",
        "\n",
        "]"
      ],
      "execution_count": 19,
      "outputs": []
    },
    {
      "cell_type": "code",
      "metadata": {
        "colab": {
          "base_uri": "https://localhost:8080/"
        },
        "id": "hnfuMMrmy6II",
        "outputId": "982a8442-cea7-4282-87bb-94c5523f2759"
      },
      "source": [
        "nlp.pipe_names"
      ],
      "execution_count": 20,
      "outputs": [
        {
          "output_type": "execute_result",
          "data": {
            "text/plain": [
              "['tagger', 'parser', 'ner']"
            ]
          },
          "metadata": {
            "tags": []
          },
          "execution_count": 20
        }
      ]
    },
    {
      "cell_type": "code",
      "metadata": {
        "id": "NhNrOU6-zXo8"
      },
      "source": [
        "ner = nlp.get_pipe(\"ner\")"
      ],
      "execution_count": 21,
      "outputs": []
    },
    {
      "cell_type": "code",
      "metadata": {
        "id": "Ejfbf1N1zZT0"
      },
      "source": [
        "for _, annotations in train:\n",
        "  for ent in annotations.get(\"entities\"):\n",
        "    ner.add_label(ent[2])"
      ],
      "execution_count": 22,
      "outputs": []
    },
    {
      "cell_type": "code",
      "metadata": {
        "id": "s4nVju9ZzdjB"
      },
      "source": [
        "disable_pipes = [pipe for pipe in nlp.pipe_names if pipe!='ner']"
      ],
      "execution_count": 23,
      "outputs": []
    },
    {
      "cell_type": "code",
      "metadata": {
        "id": "kDSIpYd2zhLe"
      },
      "source": [
        "import random\n",
        "from spacy.util import minibatch,compounding\n",
        "from pathlib import Path"
      ],
      "execution_count": 24,
      "outputs": []
    },
    {
      "cell_type": "code",
      "metadata": {
        "id": "cuaSW6g8zke5"
      },
      "source": [
        "with nlp.disable_pipes(*disable_pipes):\n",
        "  optimizer = nlp.resume_training()\n",
        "  for iteration in range(100):\n",
        "    random.shuffle(train)\n",
        "    losses = {}\n",
        "    batches = minibatch(train, size = compounding(1.0, 4.0, 1.001))\n",
        "    for batch in batches:\n",
        "      text, annotation = zip(*batch)\n",
        "      nlp.update(\n",
        "          text,\n",
        "          annotation,\n",
        "          drop=0.5,\n",
        "          losses=losses,\n",
        "          sgd=optimizer\n",
        "      )\n",
        "      print(\"Losses\", losses)\n",
        "\n",
        "\n",
        "\n"
      ],
      "execution_count": null,
      "outputs": []
    },
    {
      "cell_type": "code",
      "metadata": {
        "colab": {
          "base_uri": "https://localhost:8080/"
        },
        "id": "m3L9vCWh0gFs",
        "outputId": "566f818b-6325-4bff-cedd-be9c099bf767"
      },
      "source": [
        "for text, _ in train:\n",
        "  doc = nlp(text)\n",
        "  print('Entities', [(ent.text, ent.label_) for ent in doc.ents])\n"
      ],
      "execution_count": 28,
      "outputs": [
        {
          "output_type": "stream",
          "text": [
            "Entities [('98.2', 'CARDINAL')]\n",
            "Entities [('Temperature', 'FAC'), ('97.5', 'FAC')]\n",
            "Entities []\n",
            "Entities [('Height', 'FAC'), ('155', 'CARDINAL')]\n",
            "Entities [('Weight', 'FAC'), ('90.8', 'CARDINAL')]\n",
            "Entities [('Temperature', 'FAC'), ('95', 'FAC')]\n",
            "Entities [('100', 'CARDINAL')]\n",
            "Entities []\n",
            "Entities [('Weight', 'PARAM'), ('52.5', 'VALUE')]\n",
            "Entities [('Height', 'PARAM'), ('168', 'VALUE')]\n",
            "Entities [('Height', 'FAC')]\n",
            "Entities [('135/90', 'VALUE')]\n",
            "Entities [('Weight', 'PARAM'), ('85', 'VALUE')]\n"
          ],
          "name": "stdout"
        }
      ]
    },
    {
      "cell_type": "code",
      "metadata": {
        "id": "3m5MqPG809fu"
      },
      "source": [
        "from spacy import displacy\n",
        "doc = nlp(\"My Height is 158\")\n",
        "\n",
        "for ent in doc.ents:\n",
        "   print(ent.text, ent.label)\n",
        "\n",
        "displacy.render(nlp(doc.text), style='ent', jupyter=True)"
      ],
      "execution_count": null,
      "outputs": []
    },
    {
      "cell_type": "code",
      "metadata": {
        "id": "knkkCqqk2mR-"
      },
      "source": [
        "from spacy import displacy\n",
        "doc = nlp(\"Weight is 78\")\n",
        "\n",
        "for ent in doc.ents:\n",
        "  print(ent.text, ent.label)\n",
        "\n",
        "displacy.render(nlp(doc.text), style='ent', jupyter=True)"
      ],
      "execution_count": null,
      "outputs": []
    }
  ]
}